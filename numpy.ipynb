{
 "cells": [
  {
   "cell_type": "code",
   "id": "initial_id",
   "metadata": {
    "collapsed": true,
    "ExecuteTime": {
     "end_time": "2024-06-10T10:46:29.536348Z",
     "start_time": "2024-06-10T10:46:27.051404Z"
    }
   },
   "source": "import numpy as np",
   "outputs": [],
   "execution_count": 2
  },
  {
   "metadata": {
    "ExecuteTime": {
     "end_time": "2024-06-10T10:50:28.875743Z",
     "start_time": "2024-06-10T10:50:28.869726Z"
    }
   },
   "cell_type": "code",
   "source": [
    "def print_obj(obj, name):\n",
    "    print(f\"{name}:\\n{obj}\\n\")\n",
    "    \n",
    "def check_each(a, b):\n",
    "    return (a == b).astype('bool')\n",
    "\n",
    "def check_mean(a, b):\n",
    "    return np.mean(a == b).astype('bool')"
   ],
   "id": "3a5e4eacd69ab0b3",
   "outputs": [],
   "execution_count": 8
  },
  {
   "metadata": {},
   "cell_type": "markdown",
   "source": "## Scalars, Vectors, Matrices",
   "id": "a68416aff43b4122"
  },
  {
   "metadata": {
    "ExecuteTime": {
     "end_time": "2024-06-10T10:50:56.081610Z",
     "start_time": "2024-06-10T10:50:56.076972Z"
    }
   },
   "cell_type": "code",
   "source": [
    "a = np.array(1.)\n",
    "b = np.array([1., 2., 3.])\n",
    "c = np.array([[1., 2., 3.], [4., 5., 6.]])"
   ],
   "id": "7624ebe5add99c35",
   "outputs": [],
   "execution_count": 9
  },
  {
   "metadata": {
    "ExecuteTime": {
     "end_time": "2024-06-10T10:50:57.797979Z",
     "start_time": "2024-06-10T10:50:57.794188Z"
    }
   },
   "cell_type": "code",
   "source": [
    "print_obj(a, 'a') # Scalar\n",
    "print_obj(b, 'b') # Vector\n",
    "print_obj(c, 'c') # Matrix"
   ],
   "id": "68be898b1a71758d",
   "outputs": [
    {
     "name": "stdout",
     "output_type": "stream",
     "text": [
      "a:\n",
      "1.0\n",
      "\n",
      "b:\n",
      "[1. 2. 3.]\n",
      "\n",
      "c:\n",
      "[[1. 2. 3.]\n",
      " [4. 5. 6.]]\n",
      "\n"
     ]
    }
   ],
   "execution_count": 10
  },
  {
   "metadata": {
    "ExecuteTime": {
     "end_time": "2024-06-10T10:50:59.813601Z",
     "start_time": "2024-06-10T10:50:59.811405Z"
    }
   },
   "cell_type": "code",
   "source": [
    "print_obj(a.ndim, 'a.ndim')\n",
    "print_obj(b.ndim, 'b.ndim')\n",
    "print_obj(c.ndim, 'c.ndim')"
   ],
   "id": "658fd4c6b9d58ecd",
   "outputs": [
    {
     "name": "stdout",
     "output_type": "stream",
     "text": [
      "a.ndim:\n",
      "0\n",
      "\n",
      "b.ndim:\n",
      "1\n",
      "\n",
      "c.ndim:\n",
      "2\n",
      "\n"
     ]
    }
   ],
   "execution_count": 11
  },
  {
   "metadata": {
    "ExecuteTime": {
     "end_time": "2024-06-10T10:51:01.117248Z",
     "start_time": "2024-06-10T10:51:01.113069Z"
    }
   },
   "cell_type": "code",
   "source": [
    "print_obj(a.shape, 'a.shape')\n",
    "print_obj(b.shape, 'b.shape')\n",
    "print_obj(c.shape, 'c.shape')"
   ],
   "id": "511e0a95e2ce895",
   "outputs": [
    {
     "name": "stdout",
     "output_type": "stream",
     "text": [
      "a.shape:\n",
      "()\n",
      "\n",
      "b.shape:\n",
      "(3,)\n",
      "\n",
      "c.shape:\n",
      "(2, 3)\n",
      "\n"
     ]
    }
   ],
   "execution_count": 12
  },
  {
   "metadata": {},
   "cell_type": "markdown",
   "source": "## Tensor(N-dimensional array)",
   "id": "4833dedb957b709a"
  },
  {
   "metadata": {
    "ExecuteTime": {
     "end_time": "2024-06-10T10:52:56.284982Z",
     "start_time": "2024-06-10T10:52:56.280584Z"
    }
   },
   "cell_type": "code",
   "source": [
    "d = np.array([[[1., 2., 3.], [4., 5., 6.]],[[7.,8.,9.],[10.,11.,12.]]])\n",
    "e = np.array([])"
   ],
   "id": "5e6801e145967998",
   "outputs": [],
   "execution_count": 13
  },
  {
   "metadata": {
    "ExecuteTime": {
     "end_time": "2024-06-10T10:53:14.759685Z",
     "start_time": "2024-06-10T10:53:14.757288Z"
    }
   },
   "cell_type": "code",
   "source": "",
   "id": "a626f4847fa618fe",
   "outputs": [],
   "execution_count": 13
  },
  {
   "metadata": {},
   "cell_type": "markdown",
   "source": [
    "Quiz : What is the shape of [[[1],[2],[3]],[[4],[5],[6]]]?\n",
    "Ans = (2, 3, 1)"
   ],
   "id": "66df1434076acc4f"
  },
  {
   "metadata": {},
   "cell_type": "markdown",
   "source": "## Defining Numpy Arrays",
   "id": "e1c4861551ff4189"
  },
  {
   "metadata": {
    "ExecuteTime": {
     "end_time": "2024-06-10T10:55:06.871082Z",
     "start_time": "2024-06-10T10:55:06.861802Z"
    }
   },
   "cell_type": "code",
   "source": [
    "a = np.ones(10)\n",
    "a"
   ],
   "id": "137e676ae5e3e594",
   "outputs": [
    {
     "data": {
      "text/plain": [
       "array([1., 1., 1., 1., 1., 1., 1., 1., 1., 1.])"
      ]
     },
     "execution_count": 14,
     "metadata": {},
     "output_type": "execute_result"
    }
   ],
   "execution_count": 14
  },
  {
   "metadata": {
    "ExecuteTime": {
     "end_time": "2024-06-10T10:55:17.136728Z",
     "start_time": "2024-06-10T10:55:17.132566Z"
    }
   },
   "cell_type": "code",
   "source": [
    "a = np.zeros((2, 5))\n",
    "a"
   ],
   "id": "2242545090fab68a",
   "outputs": [
    {
     "data": {
      "text/plain": [
       "array([[0., 0., 0., 0., 0.],\n",
       "       [0., 0., 0., 0., 0.]])"
      ]
     },
     "execution_count": 15,
     "metadata": {},
     "output_type": "execute_result"
    }
   ],
   "execution_count": 15
  },
  {
   "metadata": {
    "ExecuteTime": {
     "end_time": "2024-06-10T10:57:38.488071Z",
     "start_time": "2024-06-10T10:57:38.484606Z"
    }
   },
   "cell_type": "code",
   "source": [
    "a = np.full((2, 5), 5)\n",
    "a"
   ],
   "id": "e7679fbb3cc744ed",
   "outputs": [
    {
     "data": {
      "text/plain": [
       "array([[5, 5, 5, 5, 5],\n",
       "       [5, 5, 5, 5, 5]])"
      ]
     },
     "execution_count": 17,
     "metadata": {},
     "output_type": "execute_result"
    }
   ],
   "execution_count": 17
  },
  {
   "metadata": {
    "ExecuteTime": {
     "end_time": "2024-06-10T10:57:57.405574Z",
     "start_time": "2024-06-10T10:57:57.400390Z"
    }
   },
   "cell_type": "code",
   "source": [
    "a = np.random.random((2,3,4))\n",
    "a"
   ],
   "id": "ba0871bf69b6266c",
   "outputs": [
    {
     "data": {
      "text/plain": [
       "array([[[0.43002602, 0.33148303, 0.26756395, 0.90407409],\n",
       "        [0.69898655, 0.3357748 , 0.52295414, 0.27912687],\n",
       "        [0.69415891, 0.9363583 , 0.73160059, 0.52643847]],\n",
       "\n",
       "       [[0.31408362, 0.87320908, 0.46344137, 0.55411146],\n",
       "        [0.52030595, 0.86106615, 0.25670544, 0.54342544],\n",
       "        [0.13595337, 0.29711165, 0.00318119, 0.17077775]]])"
      ]
     },
     "execution_count": 18,
     "metadata": {},
     "output_type": "execute_result"
    }
   ],
   "execution_count": 18
  },
  {
   "metadata": {
    "ExecuteTime": {
     "end_time": "2024-06-10T10:58:55.999330Z",
     "start_time": "2024-06-10T10:58:55.993406Z"
    }
   },
   "cell_type": "code",
   "source": [
    "a = np.arange(10)\n",
    "a"
   ],
   "id": "8a02bfdc509f5b37",
   "outputs": [
    {
     "data": {
      "text/plain": [
       "array([0, 1, 2, 3, 4, 5, 6, 7, 8, 9])"
      ]
     },
     "execution_count": 19,
     "metadata": {},
     "output_type": "execute_result"
    }
   ],
   "execution_count": 19
  },
  {
   "metadata": {
    "ExecuteTime": {
     "end_time": "2024-06-10T10:59:25.465888Z",
     "start_time": "2024-06-10T10:59:25.461494Z"
    }
   },
   "cell_type": "code",
   "source": [
    "a = np.arange(10).astype('float')\n",
    "a"
   ],
   "id": "37199dc40b5eb9c2",
   "outputs": [
    {
     "data": {
      "text/plain": [
       "array([0., 1., 2., 3., 4., 5., 6., 7., 8., 9.])"
      ]
     },
     "execution_count": 21,
     "metadata": {},
     "output_type": "execute_result"
    }
   ],
   "execution_count": 21
  },
  {
   "metadata": {
    "ExecuteTime": {
     "end_time": "2024-06-10T10:59:50.308432Z",
     "start_time": "2024-06-10T10:59:50.302886Z"
    }
   },
   "cell_type": "code",
   "source": [
    "a = np.arange(10).reshape((5, 2))\n",
    "a"
   ],
   "id": "236315d8d777dbea",
   "outputs": [
    {
     "data": {
      "text/plain": [
       "array([[0, 1],\n",
       "       [2, 3],\n",
       "       [4, 5],\n",
       "       [6, 7],\n",
       "       [8, 9]])"
      ]
     },
     "execution_count": 22,
     "metadata": {},
     "output_type": "execute_result"
    }
   ],
   "execution_count": 22
  },
  {
   "metadata": {},
   "cell_type": "markdown",
   "source": [
    "Quiz : Create a 4-by-3-by-2 tensor filled with 0.0 to 23.0   \n",
    "a = np.arange(24).reshape((4,3,2)).astype('float')"
   ],
   "id": "9119eefe5ae77fd0"
  },
  {
   "metadata": {},
   "cell_type": "markdown",
   "source": "## Indexing & Slicing",
   "id": "6ad8ba134b4dca53"
  },
  {
   "metadata": {
    "ExecuteTime": {
     "end_time": "2024-06-10T11:02:29.662343Z",
     "start_time": "2024-06-10T11:02:29.657988Z"
    }
   },
   "cell_type": "code",
   "source": [
    "# Indexing and slicing a vector\n",
    "a = np.arange(10)\n",
    "print_obj(a, 'a')\n"
   ],
   "id": "dd3da1685afc756e",
   "outputs": [
    {
     "name": "stdout",
     "output_type": "stream",
     "text": [
      "a:\n",
      "[0 1 2 3 4 5 6 7 8 9]\n",
      "\n"
     ]
    }
   ],
   "execution_count": 23
  },
  {
   "metadata": {
    "ExecuteTime": {
     "end_time": "2024-06-10T11:03:05.472210Z",
     "start_time": "2024-06-10T11:03:05.469348Z"
    }
   },
   "cell_type": "code",
   "source": [
    "print_obj(a[0], 'a[0]')\n",
    "print_obj(a[1], 'a[1]')\n",
    "print_obj(a[-1], 'a[-1]')\n",
    "print_obj(a[-3], 'a[-3]')"
   ],
   "id": "3db5895eb3531ddc",
   "outputs": [
    {
     "name": "stdout",
     "output_type": "stream",
     "text": [
      "a[0]:\n",
      "0\n",
      "\n",
      "a[1]:\n",
      "1\n",
      "\n",
      "a[-1]:\n",
      "9\n",
      "\n",
      "a[-3]:\n",
      "7\n",
      "\n"
     ]
    }
   ],
   "execution_count": 24
  },
  {
   "metadata": {
    "ExecuteTime": {
     "end_time": "2024-06-10T11:04:45.349678Z",
     "start_time": "2024-06-10T11:04:45.345176Z"
    }
   },
   "cell_type": "code",
   "source": [
    "print_obj(a[0:10], 'a[0:10]')\n",
    "print_obj(a[0:], 'a[0:]')\n",
    "print_obj(a[:10], 'a[:10]')\n",
    "print_obj(a[:], 'a[:]')"
   ],
   "id": "d506b5c6add718b9",
   "outputs": [
    {
     "name": "stdout",
     "output_type": "stream",
     "text": [
      "a[0:10]:\n",
      "[0 1 2 3 4 5 6 7 8 9]\n",
      "\n",
      "a[0:]:\n",
      "[0 1 2 3 4 5 6 7 8 9]\n",
      "\n",
      "a[:10]:\n",
      "[0 1 2 3 4 5 6 7 8 9]\n",
      "\n",
      "a[:]:\n",
      "[0 1 2 3 4 5 6 7 8 9]\n",
      "\n"
     ]
    }
   ],
   "execution_count": 25
  },
  {
   "metadata": {
    "ExecuteTime": {
     "end_time": "2024-06-10T11:05:55.686764Z",
     "start_time": "2024-06-10T11:05:55.681473Z"
    }
   },
   "cell_type": "code",
   "source": [
    "print_obj(a[7:], 'a[7:]')\n",
    "print_obj(a[:5], 'a[:5]')\n",
    "print_obj(a[2:5], 'a[2:5]')"
   ],
   "id": "5a2cca123428dc10",
   "outputs": [
    {
     "name": "stdout",
     "output_type": "stream",
     "text": [
      "a[7:]:\n",
      "[7 8 9]\n",
      "\n",
      "a[:5]:\n",
      "[0 1 2 3 4]\n",
      "\n",
      "a[2:5]:\n",
      "[2 3 4]\n",
      "\n"
     ]
    }
   ],
   "execution_count": 26
  },
  {
   "metadata": {},
   "cell_type": "markdown",
   "source": [
    "Quiz : What is a a[-4:]?   \n",
    "Quiz : What is a a[:-8]?"
   ],
   "id": "fd2d4fdcd15b1593"
  },
  {
   "metadata": {
    "ExecuteTime": {
     "end_time": "2024-06-10T11:07:51.368308Z",
     "start_time": "2024-06-10T11:07:51.362659Z"
    }
   },
   "cell_type": "code",
   "source": [
    "print_obj(a[0:10:2], 'a[0:10:2]')\n",
    "print_obj(a[0:10:3], 'a[0:10:3]')\n",
    "print_obj(a[2:6:3], 'a[2:6:3]')"
   ],
   "id": "23f3ec1d8d55566c",
   "outputs": [
    {
     "name": "stdout",
     "output_type": "stream",
     "text": [
      "a[0:10:2]:\n",
      "[0 2 4 6 8]\n",
      "\n",
      "a[0:10:3]:\n",
      "[0 3 6 9]\n",
      "\n",
      "a[2:6:3]:\n",
      "[2 5]\n",
      "\n"
     ]
    }
   ],
   "execution_count": 27
  },
  {
   "metadata": {
    "ExecuteTime": {
     "end_time": "2024-06-10T11:08:34.344780Z",
     "start_time": "2024-06-10T11:08:34.339947Z"
    }
   },
   "cell_type": "code",
   "source": [
    "print_obj(a[::-1], 'a[::-1]')\n",
    "print_obj(a[8:5:-1], 'a[8:5:-1]')\n",
    "print_obj(a[8:5], 'a[8:5]')"
   ],
   "id": "daf0794a0bf96657",
   "outputs": [
    {
     "name": "stdout",
     "output_type": "stream",
     "text": [
      "a[::-1]:\n",
      "[9 8 7 6 5 4 3 2 1 0]\n",
      "\n",
      "a[8:5:-1]:\n",
      "[8 7 6]\n",
      "\n",
      "a[8:5]:\n",
      "[]\n",
      "\n"
     ]
    }
   ],
   "execution_count": 28
  },
  {
   "metadata": {},
   "cell_type": "markdown",
   "source": "Quiz : Create [9, 6, 3] using a.",
   "id": "f97b1063f91d6b70"
  },
  {
   "metadata": {
    "ExecuteTime": {
     "end_time": "2024-06-10T11:10:12.965512Z",
     "start_time": "2024-06-10T11:10:12.960194Z"
    }
   },
   "cell_type": "code",
   "source": [
    "#Indexing a matrix\n",
    "a = np.arange(9).reshape((3, 3))\n",
    "print_obj(a, 'a')\n",
    "print_obj(a[0][0], 'a[0][0]')\n",
    "print_obj(a[0,0], 'a[0,0]')\n",
    "print_obj(a[1,1], 'a[1,1]')"
   ],
   "id": "641b4312d1e0abcd",
   "outputs": [
    {
     "name": "stdout",
     "output_type": "stream",
     "text": [
      "a:\n",
      "[[0 1 2]\n",
      " [3 4 5]\n",
      " [6 7 8]]\n",
      "\n",
      "a[0][0]:\n",
      "0\n",
      "\n",
      "a[0,0]:\n",
      "0\n",
      "\n",
      "a[1,1]:\n",
      "4\n",
      "\n"
     ]
    }
   ],
   "execution_count": 30
  },
  {
   "metadata": {},
   "cell_type": "markdown",
   "source": [
    "Quiz : How to access the last row?   \n",
    "Quiz : How to access the second column?   \n",
    "Quiz : How to create [8,5] using a?"
   ],
   "id": "979b76e71e6d110d"
  },
  {
   "metadata": {
    "ExecuteTime": {
     "end_time": "2024-06-10T11:16:46.625161Z",
     "start_time": "2024-06-10T11:16:46.622145Z"
    }
   },
   "cell_type": "code",
   "source": [
    "# Indexing and slicing a 3D tensor\n",
    "a = np.arange(4 * 3 * 2).reshape((4, 3, 2))\n",
    "print_obj(a, 'a')\n",
    "print_obj(a[2, 1, 0], 'a[2,1,0]')"
   ],
   "id": "dc09cdba4926303e",
   "outputs": [
    {
     "name": "stdout",
     "output_type": "stream",
     "text": [
      "a:\n",
      "[[[ 0  1]\n",
      "  [ 2  3]\n",
      "  [ 4  5]]\n",
      "\n",
      " [[ 6  7]\n",
      "  [ 8  9]\n",
      "  [10 11]]\n",
      "\n",
      " [[12 13]\n",
      "  [14 15]\n",
      "  [16 17]]\n",
      "\n",
      " [[18 19]\n",
      "  [20 21]\n",
      "  [22 23]]]\n",
      "\n",
      "a[2,1,0]:\n",
      "14\n",
      "\n"
     ]
    }
   ],
   "execution_count": 33
  },
  {
   "metadata": {},
   "cell_type": "markdown",
   "source": [
    "Quiz : What would be a[0]?   \n",
    "Quiz : What would be a[0, 1]?   \n",
    "Quiz : Create [[0, 2, 4], [6, 8, 10]]"
   ],
   "id": "476b776a2ea357fb"
  },
  {
   "metadata": {
    "ExecuteTime": {
     "end_time": "2024-06-10T11:42:22.667053Z",
     "start_time": "2024-06-10T11:42:22.660632Z"
    }
   },
   "cell_type": "code",
   "source": [
    "# Conditional indexing\n",
    "a = np.arange(3 * 2).reshape((3, 2))\n",
    "print_obj(a, 'a')\n",
    "\n",
    "idx = a % 2 == 0\n",
    "print_obj(idx, \"idx\")"
   ],
   "id": "8e275cb6d873b8e6",
   "outputs": [
    {
     "name": "stdout",
     "output_type": "stream",
     "text": [
      "a:\n",
      "[[0 1]\n",
      " [2 3]\n",
      " [4 5]]\n",
      "\n",
      "idx:\n",
      "[[ True False]\n",
      " [ True False]\n",
      " [ True False]]\n",
      "\n"
     ]
    }
   ],
   "execution_count": 34
  },
  {
   "metadata": {},
   "cell_type": "markdown",
   "source": "Quiz : How would you create [3,4,5] using a?",
   "id": "3a5328d28f31b77"
  },
  {
   "metadata": {
    "ExecuteTime": {
     "end_time": "2024-06-10T11:43:22.364373Z",
     "start_time": "2024-06-10T11:43:22.361488Z"
    }
   },
   "cell_type": "code",
   "source": [
    "# Taking a specific elements from a vector\n",
    "a = np.arange(10)\n",
    "idx = [0, 2, 3]\n",
    "print_obj(a[idx], \"a[idx]\")"
   ],
   "id": "90a6cb768d6bcf27",
   "outputs": [
    {
     "name": "stdout",
     "output_type": "stream",
     "text": [
      "a[idx]:\n",
      "[0 2 3]\n",
      "\n"
     ]
    }
   ],
   "execution_count": 35
  },
  {
   "metadata": {
    "ExecuteTime": {
     "end_time": "2024-06-10T11:49:45.209978Z",
     "start_time": "2024-06-10T11:49:45.207659Z"
    }
   },
   "cell_type": "code",
   "source": [
    "#Taking specific elements from a tensor\n",
    "a = np.arange(24).reshape((6, 4))\n",
    "print_obj(a, \"a\")\n",
    "\n",
    "print_obj(a[:,[0,2,3]], \"a[idx]\")\n",
    "print_obj(a[[0,2,3], :], \"a[idx]\")"
   ],
   "id": "39e8944fdbaf5520",
   "outputs": [
    {
     "name": "stdout",
     "output_type": "stream",
     "text": [
      "a:\n",
      "[[ 0  1  2  3]\n",
      " [ 4  5  6  7]\n",
      " [ 8  9 10 11]\n",
      " [12 13 14 15]\n",
      " [16 17 18 19]\n",
      " [20 21 22 23]]\n",
      "\n",
      "a[idx]:\n",
      "[[ 0  2  3]\n",
      " [ 4  6  7]\n",
      " [ 8 10 11]\n",
      " [12 14 15]\n",
      " [16 18 19]\n",
      " [20 22 23]]\n",
      "\n",
      "a[idx]:\n",
      "[[ 0  1  2  3]\n",
      " [ 8  9 10 11]\n",
      " [12 13 14 15]]\n",
      "\n"
     ]
    }
   ],
   "execution_count": 37
  },
  {
   "metadata": {
    "ExecuteTime": {
     "end_time": "2024-06-10T11:50:36.759746Z",
     "start_time": "2024-06-10T11:50:36.756792Z"
    }
   },
   "cell_type": "code",
   "source": [
    "idx = ((0,0,1,5),(1,2,0,3))\n",
    "print_obj(a[idx], \"tuple indexing\")\n",
    "idx = np.array([[0,0,1,5],[1,2,0,3]])\n",
    "print_obj(a[idx], \"ndarray indexing\")"
   ],
   "id": "75cd5f7cb054e799",
   "outputs": [
    {
     "name": "stdout",
     "output_type": "stream",
     "text": [
      "tuple indexing:\n",
      "[ 1  2  4 23]\n",
      "\n",
      "ndarray indexing:\n",
      "[[[ 0  1  2  3]\n",
      "  [ 0  1  2  3]\n",
      "  [ 4  5  6  7]\n",
      "  [20 21 22 23]]\n",
      "\n",
      " [[ 4  5  6  7]\n",
      "  [ 8  9 10 11]\n",
      "  [ 0  1  2  3]\n",
      "  [12 13 14 15]]]\n",
      "\n"
     ]
    }
   ],
   "execution_count": 38
  },
  {
   "metadata": {
    "ExecuteTime": {
     "end_time": "2024-06-10T11:52:57.052534Z",
     "start_time": "2024-06-10T11:52:57.047885Z"
    }
   },
   "cell_type": "code",
   "source": [
    "# Ellipsis\n",
    "a = np.arange(288).reshape((2,3,2,2,4,-1))\n",
    "print_obj(a.shape, \"a.shape\")\n",
    "\n",
    "print_obj(a[1,:,:,:,:,2], \"Plain indexing\")\n",
    "print_obj(a[1,...,2], \"Ellipsis\")"
   ],
   "id": "7c82a054cc14b74",
   "outputs": [
    {
     "name": "stdout",
     "output_type": "stream",
     "text": [
      "a.shape:\n",
      "(2, 3, 2, 2, 4, 3)\n",
      "\n",
      "Plain indexing:\n",
      "[[[[146 149 152 155]\n",
      "   [158 161 164 167]]\n",
      "\n",
      "  [[170 173 176 179]\n",
      "   [182 185 188 191]]]\n",
      "\n",
      "\n",
      " [[[194 197 200 203]\n",
      "   [206 209 212 215]]\n",
      "\n",
      "  [[218 221 224 227]\n",
      "   [230 233 236 239]]]\n",
      "\n",
      "\n",
      " [[[242 245 248 251]\n",
      "   [254 257 260 263]]\n",
      "\n",
      "  [[266 269 272 275]\n",
      "   [278 281 284 287]]]]\n",
      "\n",
      "Ellipsis:\n",
      "[[[[146 149 152 155]\n",
      "   [158 161 164 167]]\n",
      "\n",
      "  [[170 173 176 179]\n",
      "   [182 185 188 191]]]\n",
      "\n",
      "\n",
      " [[[194 197 200 203]\n",
      "   [206 209 212 215]]\n",
      "\n",
      "  [[218 221 224 227]\n",
      "   [230 233 236 239]]]\n",
      "\n",
      "\n",
      " [[[242 245 248 251]\n",
      "   [254 257 260 263]]\n",
      "\n",
      "  [[266 269 272 275]\n",
      "   [278 281 284 287]]]]\n",
      "\n"
     ]
    }
   ],
   "execution_count": 39
  },
  {
   "metadata": {},
   "cell_type": "markdown",
   "source": "## Math Operations",
   "id": "c855f18dd2353179"
  },
  {
   "metadata": {
    "ExecuteTime": {
     "end_time": "2024-06-10T11:57:32.598287Z",
     "start_time": "2024-06-10T11:57:32.592847Z"
    }
   },
   "cell_type": "code",
   "source": [
    "# Basic Operations\n",
    "a = np.arange(6).reshape((3,2))\n",
    "b = np.ones((3,2))\n",
    "print_obj(a, \"a\")\n",
    "print_obj(b, \"b\")\n",
    "\n",
    "print_obj(a + b, \"a + b\")\n",
    "print_obj(a - b, \"a - b\")\n",
    "print_obj(a * b, \"a * b\")\n",
    "print_obj(a / b, \"a / b\")"
   ],
   "id": "17d4aa97cf244402",
   "outputs": [
    {
     "name": "stdout",
     "output_type": "stream",
     "text": [
      "a:\n",
      "[[0 1]\n",
      " [2 3]\n",
      " [4 5]]\n",
      "\n",
      "b:\n",
      "[[1. 1.]\n",
      " [1. 1.]\n",
      " [1. 1.]]\n",
      "\n",
      "a + b:\n",
      "[[1. 2.]\n",
      " [3. 4.]\n",
      " [5. 6.]]\n",
      "\n",
      "a - b:\n",
      "[[-1.  0.]\n",
      " [ 1.  2.]\n",
      " [ 3.  4.]]\n",
      "\n",
      "a * b:\n",
      "[[0. 1.]\n",
      " [2. 3.]\n",
      " [4. 5.]]\n",
      "\n",
      "a / b:\n",
      "[[0. 1.]\n",
      " [2. 3.]\n",
      " [4. 5.]]\n",
      "\n"
     ]
    }
   ],
   "execution_count": 41
  },
  {
   "metadata": {},
   "cell_type": "code",
   "outputs": [],
   "execution_count": null,
   "source": "",
   "id": "8e3acc4f787b54d1"
  }
 ],
 "metadata": {
  "kernelspec": {
   "display_name": "Python 3",
   "language": "python",
   "name": "python3"
  },
  "language_info": {
   "codemirror_mode": {
    "name": "ipython",
    "version": 2
   },
   "file_extension": ".py",
   "mimetype": "text/x-python",
   "name": "python",
   "nbconvert_exporter": "python",
   "pygments_lexer": "ipython2",
   "version": "2.7.6"
  }
 },
 "nbformat": 4,
 "nbformat_minor": 5
}
